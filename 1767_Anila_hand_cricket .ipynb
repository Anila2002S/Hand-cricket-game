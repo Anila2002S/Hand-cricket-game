{
 "cells": [
  {
   "cell_type": "code",
   "execution_count": 1,
   "id": "174b809c",
   "metadata": {},
   "outputs": [
    {
     "name": "stdout",
     "output_type": "stream",
     "text": [
      " Welcome to the Hand Cricket Game! \n",
      "----------------------------------------\n",
      "Rules and Instructions:\n",
      "1. You and the computer will choose a number between 1 and 6.\n",
      "2. If the sum of both numbers is even and you chose 'Even', you win the toss.\n",
      "3. If the sum is odd and you chose 'Odd', you win the toss.\n",
      "4. If you win the toss, you can choose to bat or bowl first.\n",
      "5. The game will continue until either player gets out.\n",
      "6. The player with the highest score wins.\n",
      "----------------------------------------\n"
     ]
    },
    {
     "name": "stdin",
     "output_type": "stream",
     "text": [
      "Choose Even or Odd:  even\n",
      "Enter a number between 1 and 6:  3\n"
     ]
    },
    {
     "name": "stdout",
     "output_type": "stream",
     "text": [
      "You chose: 3, Computer chose: 1. Total is: 4\n",
      "You win the toss!\n"
     ]
    },
    {
     "name": "stdin",
     "output_type": "stream",
     "text": [
      "Choose to Bat or Bowl:  bat\n"
     ]
    },
    {
     "name": "stdout",
     "output_type": "stream",
     "text": [
      "You are batting first!\n"
     ]
    },
    {
     "name": "stdin",
     "output_type": "stream",
     "text": [
      "Enter a number between 1 and 6:  4\n"
     ]
    },
    {
     "name": "stdout",
     "output_type": "stream",
     "text": [
      "You chose: 4, Computer chose: 6.\n",
      "User score: 4\n"
     ]
    },
    {
     "name": "stdin",
     "output_type": "stream",
     "text": [
      "Enter a number between 1 and 6:  5\n"
     ]
    },
    {
     "name": "stdout",
     "output_type": "stream",
     "text": [
      "You chose: 5, Computer chose: 5.\n",
      "user is out!\n",
      "Now the computer will bat.\n"
     ]
    },
    {
     "name": "stdin",
     "output_type": "stream",
     "text": [
      "Enter a number between 1 and 6:  2\n"
     ]
    },
    {
     "name": "stdout",
     "output_type": "stream",
     "text": [
      "You chose: 2, Computer chose: 1.\n",
      "Computer score: 1\n"
     ]
    },
    {
     "name": "stdin",
     "output_type": "stream",
     "text": [
      "Enter a number between 1 and 6:  3\n"
     ]
    },
    {
     "name": "stdout",
     "output_type": "stream",
     "text": [
      "You chose: 3, Computer chose: 5.\n",
      "Computer score: 6\n",
      "Computer has surpassed the target!\n",
      "Computer wins! Better luck next time.\n"
     ]
    }
   ],
   "source": [
    "import random\n",
    "\n",
    "def welcome_message():\n",
    "    print(\" Welcome to the Hand Cricket Game! \")\n",
    "    print(\"-\" * 40)\n",
    "\n",
    "def rules_and_instructions():\n",
    "    print(\"Rules and Instructions:\")\n",
    "    print(\"1. You and the computer will choose a number between 1 and 6.\")\n",
    "    print(\"2. If the sum of both numbers is even and you chose 'Even', you win the toss.\")\n",
    "    print(\"3. If the sum is odd and you chose 'Odd', you win the toss.\")\n",
    "    print(\"4. If you win the toss, you can choose to bat or bowl first.\")\n",
    "    print(\"5. The game will continue until either player gets out.\")\n",
    "    print(\"6. The player with the highest score wins.\")\n",
    "    print(\"-\" * 40)\n",
    "\n",
    "def get_user_choice():\n",
    "    choice = input(\"Choose Even or Odd: \").strip().lower()\n",
    "    while choice not in [\"even\", \"odd\"]:\n",
    "        choice = input(\"Invalid choice. Please choose 'Even' or 'Odd': \").strip().lower()\n",
    "    return choice\n",
    "\n",
    "def toss(user_choice):\n",
    "    user_num = int(input(\"Enter a number between 1 and 6: \"))\n",
    "    computer_num = random.randint(1, 6)\n",
    "    total = user_num + computer_num\n",
    "    print(f\"You chose: {user_num}, Computer chose: {computer_num}. Total is: {total}\")\n",
    "\n",
    "    if (total % 2 == 0 and user_choice == \"even\") or (total % 2 != 0 and user_choice == \"odd\"):\n",
    "        print(\"You win the toss!\")\n",
    "        return \"user\"\n",
    "    else:\n",
    "        print(\"Computer wins the toss!\")\n",
    "        return \"computer\"\n",
    "\n",
    "def bat_or_bowl(toss_winner):\n",
    "    if toss_winner == \"user\":\n",
    "        decision = input(\"Choose to Bat or Bowl: \").strip().lower()\n",
    "        while decision not in [\"bat\", \"bowl\"]:\n",
    "            decision = input(\"Invalid choice. Please choose 'Bat' or 'Bowl': \").strip().lower()\n",
    "    else:\n",
    "        decision = random.choice([\"bat\", \"bowl\"])\n",
    "        print(f\"Computer chooses to {decision}.\")\n",
    "    return decision\n",
    "\n",
    "def play_innings(player, target=None):\n",
    "    score = 0\n",
    "    while True:\n",
    "        player_num = int(input(\"Enter a number between 1 and 6: \"))\n",
    "        computer_num = random.randint(1, 6)\n",
    "        print(f\"You chose: {player_num}, Computer chose: {computer_num}.\")\n",
    "       \n",
    "        if player_num == computer_num:\n",
    "            print(f\"{player} is out!\")\n",
    "            break\n",
    "        else:\n",
    "            score += player_num if player == \"user\" else computer_num\n",
    "            print(f\"{player.capitalize()} score: {score}\")\n",
    "\n",
    "        if target and score > target:\n",
    "            print(f\"{player.capitalize()} has surpassed the target!\")\n",
    "            break\n",
    "\n",
    "    return score\n",
    "\n",
    "def hand_cricket_game():\n",
    "    welcome_message()\n",
    "    rules_and_instructions()\n",
    "   \n",
    "    user_choice = get_user_choice()\n",
    "    toss_winner = toss(user_choice)\n",
    "    decision = bat_or_bowl(toss_winner)\n",
    "   \n",
    "    if toss_winner == \"user\":\n",
    "        if decision == \"bat\":\n",
    "            print(\"You are batting first!\")\n",
    "            user_score = play_innings(\"user\")\n",
    "            print(\"Now the computer will bat.\")\n",
    "            computer_score = play_innings(\"computer\", target=user_score)\n",
    "        else:\n",
    "            print(\"You are bowling first!\")\n",
    "            computer_score = play_innings(\"computer\")\n",
    "            print(\"Now you will bat.\")\n",
    "            user_score = play_innings(\"user\", target=computer_score)\n",
    "    else:\n",
    "        if decisievenon == \"bat\":\n",
    "            print(\"Computer is batting first!\")\n",
    "            computer_score = play_innings(\"computer\")\n",
    "            print(\"Now you will bat.\")\n",
    "            user_score = play_innings(\"user\", target=computer_score)\n",
    "        else:\n",
    "            print(\"Computer is bowling first!\")\n",
    "            user_score = play_innings(\"user\")\n",
    "            print(\"Now the computer will bat.\")\n",
    "            computer_score = play_innings(\"computer\", target=user_score)\n",
    "   \n",
    "    if user_score > computer_score:\n",
    "        print(\"Congratulations! You win!\")\n",
    "    elif user_score < computer_score:\n",
    "        print(\"Computer wins! Better luck next time.\")\n",
    "    else:\n",
    "        print(\"It's a tie!\")\n",
    "\n",
    "hand_cricket_game()\n"
   ]
  }
 ],
 "metadata": {
  "kernelspec": {
   "display_name": "Python 3 (ipykernel)",
   "language": "python",
   "name": "python3"
  },
  "language_info": {
   "codemirror_mode": {
    "name": "ipython",
    "version": 3
   },
   "file_extension": ".py",
   "mimetype": "text/x-python",
   "name": "python",
   "nbconvert_exporter": "python",
   "pygments_lexer": "ipython3",
   "version": "3.12.4"
  }
 },
 "nbformat": 4,
 "nbformat_minor": 5
}
